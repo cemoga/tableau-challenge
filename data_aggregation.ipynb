{
 "nbformat": 4,
 "nbformat_minor": 2,
 "metadata": {
  "language_info": {
   "name": "python",
   "codemirror_mode": {
    "name": "ipython",
    "version": 3
   },
   "version": "3.7.4-final"
  },
  "orig_nbformat": 2,
  "file_extension": ".py",
  "mimetype": "text/x-python",
  "name": "python",
  "npconvert_exporter": "python",
  "pygments_lexer": "ipython3",
  "version": 3,
  "kernelspec": {
   "name": "python37464bit4785123cf1534660adfe6f9a3548f6c1",
   "display_name": "Python 3.7.4 64-bit"
  }
 },
 "cells": [
  {
   "cell_type": "markdown",
   "execution_count": 2,
   "metadata": {},
   "outputs": [],
   "source": [
    "# Merge all CSV Files and Aggreggation of final Dataframe"
   ]
  },
  {
   "cell_type": "markdown",
   "execution_count": null,
   "metadata": {},
   "outputs": [],
   "source": [
    "# Merge all CSV Files"
   ]
  },
  {
   "cell_type": "markdown",
   "execution_count": 3,
   "metadata": {},
   "outputs": [],
   "source": [
    "#### Import Dependencies"
   ]
  },
  {
   "cell_type": "code",
   "execution_count": 1,
   "metadata": {},
   "outputs": [],
   "source": [
    "# Import Dependencies\n",
    "import pandas as pd\n",
    "from os import listdir"
   ]
  },
  {
   "cell_type": "markdown",
   "execution_count": null,
   "metadata": {},
   "outputs": [],
   "source": [
    "#### Extract Column Names to asign to all CSV files"
   ]
  },
  {
   "cell_type": "code",
   "execution_count": 2,
   "metadata": {},
   "outputs": [
    {
     "data": {
      "text/plain": "Index(['Trip Duration', 'Start Time', 'Stop Time', 'Start Station ID',\n       'Start Station Name', 'Start Station Latitude',\n       'Start Station Longitude', 'End Station ID', 'End Station Name',\n       'End Station Latitude', 'End Station Longitude', 'Bike ID', 'User Type',\n       'Birth Year', 'Gender'],\n      dtype='object')"
     },
     "execution_count": 2,
     "metadata": {},
     "output_type": "execute_result"
    }
   ],
   "source": [
    "# Extract Column Names from one of the files\n",
    "file = '201701-citibike-tripdata.csv'\n",
    "df_2017 = pd.read_csv('data_original/' + file)\n",
    "column_names = df_2017.columns\n",
    "column_names"
   ]
  },
  {
   "cell_type": "markdown",
   "execution_count": null,
   "metadata": {},
   "outputs": [],
   "source": [
    "#### Duplicate the CSV files to a new directory with the same column name for all"
   ]
  },
  {
   "cell_type": "code",
   "execution_count": 3,
   "metadata": {},
   "outputs": [
    {
     "name": "stdout",
     "output_type": "stream",
     "text": "201701-citibike-tripdata.csv 15\n201702-citibike-tripdata.csv 15\n201703-citibike-tripdata.csv 15\n201704-citibike-tripdata.csv 15\n201705-citibike-tripdata.csv 15\n201706-citibike-tripdata.csv 15\n201707-citibike-tripdata.csv 15\n201708-citibike-tripdata.csv 15\n201709-citibike-tripdata.csv 15\n201710-citibike-tripdata.csv 15\n201711-citibike-tripdata.csv 15\n201712-citibike-tripdata.csv 15\n201801-citibike-tripdata.csv 15\n201802-citibike-tripdata.csv 15\n201803-citibike-tripdata.csv 15\n201804-citibike-tripdata.csv 15\n201805-citibike-tripdata.csv 15\n201806-citibike-tripdata.csv 15\n201807-citibike-tripdata.csv 15\n201808-citibike-tripdata.csv 15\n201809-citibike-tripdata.csv 15\n201810-citibike-tripdata.csv 15\n201811-citibike-tripdata.csv 15\n201812-citibike-tripdata.csv 15\n201901-citibike-tripdata.csv 15\n201902-citibike-tripdata.csv 15\n201903-citibike-tripdata.csv 15\n201904-citibike-tripdata.csv 15\n201905-citibike-tripdata.csv 15\n201906-citibike-tripdata.csv 15\n201907-citibike-tripdata.csv 15\n201908-citibike-tripdata.csv 15\n201909-citibike-tripdata.csv 15\n201910-citibike-tripdata.csv 15\n201911-citibike-tripdata.csv 15\n"
    }
   ],
   "source": [
    "# Define the path that includes the csv files to merge\n",
    "filepaths_original = [f for f in listdir(\"./data_original\") if f.endswith('.csv')]\n",
    "# Order the list of paths alphabetically\n",
    "filepaths_original.sort(reverse = False) \n",
    "\n",
    "# Export the csv files with the same header\n",
    "for file in filepaths_original:\n",
    "    # Create a dataframe for each csv file\n",
    "    df = pd.read_csv('data_original/' + file)\n",
    "    # Verify if the number of columns and their names match\n",
    "    print(file, df.columns.size)\n",
    "    #print(file, df.columns)\n",
    "    # Asign the same column name for each dataframe\n",
    "    df.columns = column_names\n",
    "    # Export the dataframes with the same column names to a new path\n",
    "    df.to_csv('data_modified/' + file)"
   ]
  },
  {
   "cell_type": "markdown",
   "execution_count": null,
   "metadata": {},
   "outputs": [],
   "source": [
    "### Concatenate all the CSV files in a single Dataframe"
   ]
  },
  {
   "cell_type": "code",
   "execution_count": 4,
   "metadata": {},
   "outputs": [
    {
     "data": {
      "text/html": "<div>\n<style scoped>\n    .dataframe tbody tr th:only-of-type {\n        vertical-align: middle;\n    }\n\n    .dataframe tbody tr th {\n        vertical-align: top;\n    }\n\n    .dataframe thead th {\n        text-align: right;\n    }\n</style>\n<table border=\"1\" class=\"dataframe\">\n  <thead>\n    <tr style=\"text-align: right;\">\n      <th></th>\n      <th>Trip Duration</th>\n      <th>Start Time</th>\n      <th>Stop Time</th>\n      <th>Start Station ID</th>\n      <th>Start Station Name</th>\n      <th>Start Station Latitude</th>\n      <th>Start Station Longitude</th>\n      <th>End Station ID</th>\n      <th>End Station Name</th>\n      <th>End Station Latitude</th>\n      <th>End Station Longitude</th>\n      <th>Bike ID</th>\n      <th>User Type</th>\n      <th>Birth Year</th>\n      <th>Gender</th>\n      <th>Start Date</th>\n      <th>Stop Date</th>\n    </tr>\n  </thead>\n  <tbody>\n    <tr>\n      <td>0</td>\n      <td>148</td>\n      <td>2017-01-01 00:21:32</td>\n      <td>2017-01-01 00:24:01</td>\n      <td>3276.0</td>\n      <td>Marin Light Rail</td>\n      <td>40.714584</td>\n      <td>-74.042817</td>\n      <td>3185.0</td>\n      <td>City Hall</td>\n      <td>40.717732</td>\n      <td>-74.043845</td>\n      <td>24575</td>\n      <td>Subscriber</td>\n      <td>1983</td>\n      <td>Male</td>\n      <td>2017-01-01</td>\n      <td>2017-01-01</td>\n    </tr>\n    <tr>\n      <td>1</td>\n      <td>1283</td>\n      <td>2017-01-01 00:24:35</td>\n      <td>2017-01-01 00:45:58</td>\n      <td>3183.0</td>\n      <td>Exchange Place</td>\n      <td>40.716247</td>\n      <td>-74.033459</td>\n      <td>3198.0</td>\n      <td>Heights Elevator</td>\n      <td>40.748716</td>\n      <td>-74.040443</td>\n      <td>24723</td>\n      <td>Subscriber</td>\n      <td>1978</td>\n      <td>Male</td>\n      <td>2017-01-01</td>\n      <td>2017-01-01</td>\n    </tr>\n    <tr>\n      <td>2</td>\n      <td>372</td>\n      <td>2017-01-01 00:38:19</td>\n      <td>2017-01-01 00:44:31</td>\n      <td>3183.0</td>\n      <td>Exchange Place</td>\n      <td>40.716247</td>\n      <td>-74.033459</td>\n      <td>3211.0</td>\n      <td>Newark Ave</td>\n      <td>40.721525</td>\n      <td>-74.046305</td>\n      <td>24620</td>\n      <td>Subscriber</td>\n      <td>1989</td>\n      <td>Male</td>\n      <td>2017-01-01</td>\n      <td>2017-01-01</td>\n    </tr>\n    <tr>\n      <td>3</td>\n      <td>1513</td>\n      <td>2017-01-01 00:38:37</td>\n      <td>2017-01-01 01:03:50</td>\n      <td>3194.0</td>\n      <td>McGinley Square</td>\n      <td>40.725340</td>\n      <td>-74.067622</td>\n      <td>3271.0</td>\n      <td>Danforth Light Rail</td>\n      <td>40.692640</td>\n      <td>-74.088012</td>\n      <td>24668</td>\n      <td>Subscriber</td>\n      <td>1961</td>\n      <td>Male</td>\n      <td>2017-01-01</td>\n      <td>2017-01-01</td>\n    </tr>\n    <tr>\n      <td>4</td>\n      <td>639</td>\n      <td>2017-01-01 01:47:52</td>\n      <td>2017-01-01 01:58:31</td>\n      <td>3183.0</td>\n      <td>Exchange Place</td>\n      <td>40.716247</td>\n      <td>-74.033459</td>\n      <td>3203.0</td>\n      <td>Hamilton Park</td>\n      <td>40.727596</td>\n      <td>-74.044247</td>\n      <td>26167</td>\n      <td>Subscriber</td>\n      <td>1993</td>\n      <td>Male</td>\n      <td>2017-01-01</td>\n      <td>2017-01-01</td>\n    </tr>\n    <tr>\n      <td>...</td>\n      <td>...</td>\n      <td>...</td>\n      <td>...</td>\n      <td>...</td>\n      <td>...</td>\n      <td>...</td>\n      <td>...</td>\n      <td>...</td>\n      <td>...</td>\n      <td>...</td>\n      <td>...</td>\n      <td>...</td>\n      <td>...</td>\n      <td>...</td>\n      <td>...</td>\n      <td>...</td>\n      <td>...</td>\n    </tr>\n    <tr>\n      <td>54543517</td>\n      <td>1769</td>\n      <td>2017-10-31 20:59:26</td>\n      <td>2017-10-31 21:28:55</td>\n      <td>362.0</td>\n      <td>Broadway &amp; W 37 St</td>\n      <td>40.751726</td>\n      <td>-73.987535</td>\n      <td>3263.0</td>\n      <td>Cooper Square &amp; Astor Pl</td>\n      <td>40.729515</td>\n      <td>-73.990753</td>\n      <td>20654</td>\n      <td>Subscriber</td>\n      <td>1961</td>\n      <td>Female</td>\n      <td>2017-10-31</td>\n      <td>2017-10-31</td>\n    </tr>\n    <tr>\n      <td>54543518</td>\n      <td>376</td>\n      <td>2017-10-31 21:06:54</td>\n      <td>2017-10-31 21:13:10</td>\n      <td>362.0</td>\n      <td>Broadway &amp; W 37 St</td>\n      <td>40.751726</td>\n      <td>-73.987535</td>\n      <td>3259.0</td>\n      <td>9 Ave &amp; W 28 St</td>\n      <td>40.749370</td>\n      <td>-73.999234</td>\n      <td>15162</td>\n      <td>Subscriber</td>\n      <td>1983</td>\n      <td>Male</td>\n      <td>2017-10-31</td>\n      <td>2017-10-31</td>\n    </tr>\n    <tr>\n      <td>54543519</td>\n      <td>3189</td>\n      <td>2017-10-31 21:10:24</td>\n      <td>2017-10-31 22:03:33</td>\n      <td>362.0</td>\n      <td>Broadway &amp; W 37 St</td>\n      <td>40.751726</td>\n      <td>-73.987535</td>\n      <td>3158.0</td>\n      <td>W 63 St &amp; Broadway</td>\n      <td>40.771639</td>\n      <td>-73.982614</td>\n      <td>15666</td>\n      <td>Subscriber</td>\n      <td>1955</td>\n      <td>Male</td>\n      <td>2017-10-31</td>\n      <td>2017-10-31</td>\n    </tr>\n    <tr>\n      <td>54543520</td>\n      <td>142</td>\n      <td>2017-10-31 21:48:23</td>\n      <td>2017-10-31 21:50:46</td>\n      <td>362.0</td>\n      <td>Broadway &amp; W 37 St</td>\n      <td>40.751726</td>\n      <td>-73.987535</td>\n      <td>465.0</td>\n      <td>Broadway &amp; W 41 St</td>\n      <td>40.755136</td>\n      <td>-73.986580</td>\n      <td>28203</td>\n      <td>Subscriber</td>\n      <td>1971</td>\n      <td>Male</td>\n      <td>2017-10-31</td>\n      <td>2017-10-31</td>\n    </tr>\n    <tr>\n      <td>54543521</td>\n      <td>391</td>\n      <td>2017-10-31 22:40:23</td>\n      <td>2017-10-31 22:46:55</td>\n      <td>362.0</td>\n      <td>Broadway &amp; W 37 St</td>\n      <td>40.751726</td>\n      <td>-73.987535</td>\n      <td>2006.0</td>\n      <td>Central Park S &amp; 6 Ave</td>\n      <td>40.765909</td>\n      <td>-73.976342</td>\n      <td>24867</td>\n      <td>Subscriber</td>\n      <td>1990</td>\n      <td>Male</td>\n      <td>2017-10-31</td>\n      <td>2017-10-31</td>\n    </tr>\n  </tbody>\n</table>\n<p>54543522 rows × 17 columns</p>\n</div>",
      "text/plain": "          Trip Duration          Start Time           Stop Time  \\\n0                   148 2017-01-01 00:21:32 2017-01-01 00:24:01   \n1                  1283 2017-01-01 00:24:35 2017-01-01 00:45:58   \n2                   372 2017-01-01 00:38:19 2017-01-01 00:44:31   \n3                  1513 2017-01-01 00:38:37 2017-01-01 01:03:50   \n4                   639 2017-01-01 01:47:52 2017-01-01 01:58:31   \n...                 ...                 ...                 ...   \n54543517           1769 2017-10-31 20:59:26 2017-10-31 21:28:55   \n54543518            376 2017-10-31 21:06:54 2017-10-31 21:13:10   \n54543519           3189 2017-10-31 21:10:24 2017-10-31 22:03:33   \n54543520            142 2017-10-31 21:48:23 2017-10-31 21:50:46   \n54543521            391 2017-10-31 22:40:23 2017-10-31 22:46:55   \n\n          Start Station ID  Start Station Name  Start Station Latitude  \\\n0                   3276.0    Marin Light Rail               40.714584   \n1                   3183.0      Exchange Place               40.716247   \n2                   3183.0      Exchange Place               40.716247   \n3                   3194.0     McGinley Square               40.725340   \n4                   3183.0      Exchange Place               40.716247   \n...                    ...                 ...                     ...   \n54543517             362.0  Broadway & W 37 St               40.751726   \n54543518             362.0  Broadway & W 37 St               40.751726   \n54543519             362.0  Broadway & W 37 St               40.751726   \n54543520             362.0  Broadway & W 37 St               40.751726   \n54543521             362.0  Broadway & W 37 St               40.751726   \n\n          Start Station Longitude  End Station ID          End Station Name  \\\n0                      -74.042817          3185.0                 City Hall   \n1                      -74.033459          3198.0          Heights Elevator   \n2                      -74.033459          3211.0                Newark Ave   \n3                      -74.067622          3271.0       Danforth Light Rail   \n4                      -74.033459          3203.0             Hamilton Park   \n...                           ...             ...                       ...   \n54543517               -73.987535          3263.0  Cooper Square & Astor Pl   \n54543518               -73.987535          3259.0           9 Ave & W 28 St   \n54543519               -73.987535          3158.0        W 63 St & Broadway   \n54543520               -73.987535           465.0        Broadway & W 41 St   \n54543521               -73.987535          2006.0    Central Park S & 6 Ave   \n\n          End Station Latitude  End Station Longitude  Bike ID   User Type  \\\n0                    40.717732             -74.043845    24575  Subscriber   \n1                    40.748716             -74.040443    24723  Subscriber   \n2                    40.721525             -74.046305    24620  Subscriber   \n3                    40.692640             -74.088012    24668  Subscriber   \n4                    40.727596             -74.044247    26167  Subscriber   \n...                        ...                    ...      ...         ...   \n54543517             40.729515             -73.990753    20654  Subscriber   \n54543518             40.749370             -73.999234    15162  Subscriber   \n54543519             40.771639             -73.982614    15666  Subscriber   \n54543520             40.755136             -73.986580    28203  Subscriber   \n54543521             40.765909             -73.976342    24867  Subscriber   \n\n          Birth Year  Gender  Start Date   Stop Date  \n0               1983    Male  2017-01-01  2017-01-01  \n1               1978    Male  2017-01-01  2017-01-01  \n2               1989    Male  2017-01-01  2017-01-01  \n3               1961    Male  2017-01-01  2017-01-01  \n4               1993    Male  2017-01-01  2017-01-01  \n...              ...     ...         ...         ...  \n54543517        1961  Female  2017-10-31  2017-10-31  \n54543518        1983    Male  2017-10-31  2017-10-31  \n54543519        1955    Male  2017-10-31  2017-10-31  \n54543520        1971    Male  2017-10-31  2017-10-31  \n54543521        1990    Male  2017-10-31  2017-10-31  \n\n[54543522 rows x 17 columns]"
     },
     "execution_count": 4,
     "metadata": {},
     "output_type": "execute_result"
    }
   ],
   "source": [
    "# Define the list of file paths of the CSV files with the same column names for all\n",
    "filepaths_modified = [f for f in listdir(\"./data_modified\") if f.endswith('.csv')]\n",
    "\n",
    "# Concatenate all the CSV files with the same column names for all\n",
    "df_total = pd.concat([pd.read_csv('data_modified/' + file) for file in filepaths_modified])\n",
    "\n",
    "# Convert object Columns to Datetime format\n",
    "df_total['Start Time'] = pd.to_datetime(df_total['Start Time'])\n",
    "df_total['Stop Time'] = pd.to_datetime(df_total['Stop Time'])\n",
    "\n",
    "# Birth year to integer instead of float\n",
    "df_total['Birth Year'] = df_total['Birth Year'].fillna(0.0).astype(int)\n",
    "\n",
    "# Create new columns with just the date instead of date and time\n",
    "df_total['Start Date'] = df_total['Start Time'].dt.date\n",
    "df_total['Stop Date'] = df_total['Stop Time'].dt.date\n",
    "\n",
    "# Replace Gender Codes with values from the Citi Website\n",
    "df_total['Gender'].replace(to_replace=[0, 1, 2],\n",
    "           value=['Unknown', 'Male', 'Female'],\n",
    "           inplace=True)\n",
    "\n",
    "# Remove the duplicate index from the merge\n",
    "df_total = df_total.drop(['Unnamed: 0'], axis = 1) \n",
    "\n",
    "# Reset index\n",
    "df_total = df_total.reset_index(drop=True)\n",
    "\n",
    "# Show Dataframe\n",
    "df_total"
   ]
  },
  {
   "cell_type": "markdown",
   "execution_count": null,
   "metadata": {},
   "outputs": [],
   "source": [
    "Elimination of Outliers"
   ]
  },
  {
   "cell_type": "code",
   "execution_count": 5,
   "metadata": {},
   "outputs": [],
   "source": [
    "# Filter trips that last more than 4h (3h*3,600s/h=14,400s) because they are outliers that probably belong to bikes in maintenance or lost bikes\n",
    "df_total = df_total[df_total['Trip Duration'] <= 10800]"
   ]
  },
  {
   "cell_type": "code",
   "execution_count": 6,
   "metadata": {},
   "outputs": [
    {
     "data": {
      "text/plain": "array(['Marin Light Rail', 'Exchange Place', 'McGinley Square', ...,\n       \"JSQ Don't Use\", \"WS Don't Use\", \"Hs Don't Use\"], dtype=object)"
     },
     "execution_count": 6,
     "metadata": {},
     "output_type": "execute_result"
    }
   ],
   "source": [
    "df_total['Start Station Name'].unique()"
   ]
  },
  {
   "cell_type": "markdown",
   "execution_count": null,
   "metadata": {},
   "outputs": [],
   "source": [
    "## Data Aggregation"
   ]
  },
  {
   "cell_type": "code",
   "execution_count": 7,
   "metadata": {},
   "outputs": [
    {
     "data": {
      "text/plain": "Index(['Trip Duration', 'Start Time', 'Stop Time', 'Start Station ID',\n       'Start Station Name', 'Start Station Latitude',\n       'Start Station Longitude', 'End Station ID', 'End Station Name',\n       'End Station Latitude', 'End Station Longitude', 'Bike ID', 'User Type',\n       'Birth Year', 'Gender', 'Start Date', 'Stop Date'],\n      dtype='object')"
     },
     "execution_count": 7,
     "metadata": {},
     "output_type": "execute_result"
    }
   ],
   "source": [
    "df_total.columns"
   ]
  },
  {
   "cell_type": "markdown",
   "execution_count": null,
   "metadata": {},
   "outputs": [],
   "source": [
    "#### Aggreagate by Costumer Type and Gender"
   ]
  },
  {
   "cell_type": "code",
   "execution_count": 8,
   "metadata": {},
   "outputs": [
    {
     "name": "stderr",
     "output_type": "stream",
     "text": "/Applications/anaconda3/envs/python37/lib/python3.7/site-packages/pandas/core/groupby/generic.py:1455: FutureWarning: using a dict with renaming is deprecated and will be removed\nin a future version.\n\nFor column-specific groupby renaming, use named aggregation\n\n    >>> df.groupby(...).agg(name=('column', aggfunc))\n\n  return super().aggregate(arg, *args, **kwargs)\n"
    },
    {
     "data": {
      "text/html": "<div>\n<style scoped>\n    .dataframe tbody tr th:only-of-type {\n        vertical-align: middle;\n    }\n\n    .dataframe tbody tr th {\n        vertical-align: top;\n    }\n\n    .dataframe thead th {\n        text-align: right;\n    }\n</style>\n<table border=\"1\" class=\"dataframe\">\n  <thead>\n    <tr style=\"text-align: right;\">\n      <th></th>\n      <th></th>\n      <th></th>\n      <th></th>\n      <th>Trip Duration Mean (s)</th>\n      <th>Total Rides</th>\n    </tr>\n    <tr>\n      <th>Start Date</th>\n      <th>User Type</th>\n      <th>Birth Year</th>\n      <th>Gender</th>\n      <th></th>\n      <th></th>\n    </tr>\n  </thead>\n  <tbody>\n    <tr>\n      <td rowspan=\"5\" valign=\"top\">2017-01-01</td>\n      <td rowspan=\"5\" valign=\"top\">Customer</td>\n      <td>0</td>\n      <td>Unknown</td>\n      <td>1551.662744</td>\n      <td>3229</td>\n    </tr>\n    <tr>\n      <td>1958</td>\n      <td>Male</td>\n      <td>3592.000000</td>\n      <td>1</td>\n    </tr>\n    <tr>\n      <td>1963</td>\n      <td>Female</td>\n      <td>3588.000000</td>\n      <td>1</td>\n    </tr>\n    <tr>\n      <td>1964</td>\n      <td>Male</td>\n      <td>958.000000</td>\n      <td>5</td>\n    </tr>\n    <tr>\n      <td>1981</td>\n      <td>Male</td>\n      <td>1481.000000</td>\n      <td>3</td>\n    </tr>\n    <tr>\n      <td>...</td>\n      <td>...</td>\n      <td>...</td>\n      <td>...</td>\n      <td>...</td>\n      <td>...</td>\n    </tr>\n    <tr>\n      <td rowspan=\"5\" valign=\"top\">2019-11-30</td>\n      <td rowspan=\"5\" valign=\"top\">Subscriber</td>\n      <td rowspan=\"3\" valign=\"top\">2002</td>\n      <td>Female</td>\n      <td>1599.500000</td>\n      <td>2</td>\n    </tr>\n    <tr>\n      <td>Male</td>\n      <td>637.739130</td>\n      <td>23</td>\n    </tr>\n    <tr>\n      <td>Unknown</td>\n      <td>258.000000</td>\n      <td>1</td>\n    </tr>\n    <tr>\n      <td rowspan=\"2\" valign=\"top\">2003</td>\n      <td>Female</td>\n      <td>183.500000</td>\n      <td>2</td>\n    </tr>\n    <tr>\n      <td>Male</td>\n      <td>586.846154</td>\n      <td>13</td>\n    </tr>\n  </tbody>\n</table>\n<p>290284 rows × 2 columns</p>\n</div>",
      "text/plain": "                                          Trip Duration Mean (s)  Total Rides\nStart Date User Type  Birth Year Gender                                      \n2017-01-01 Customer   0          Unknown             1551.662744         3229\n                      1958       Male                3592.000000            1\n                      1963       Female              3588.000000            1\n                      1964       Male                 958.000000            5\n                      1981       Male                1481.000000            3\n...                                                          ...          ...\n2019-11-30 Subscriber 2002       Female              1599.500000            2\n                                 Male                 637.739130           23\n                                 Unknown              258.000000            1\n                      2003       Female               183.500000            2\n                                 Male                 586.846154           13\n\n[290284 rows x 2 columns]"
     },
     "execution_count": 8,
     "metadata": {},
     "output_type": "execute_result"
    }
   ],
   "source": [
    "# Aggregate by Type and Gender\n",
    "df_grouped_type_age = df_total.groupby(['Start Date', 'User Type', 'Birth Year', 'Gender']).agg({'Trip Duration':{'Trip Duration Mean (s)':'mean'}, 'Bike ID':{'Total Rides':'count'}})\n",
    "df_grouped_type_age.columns = df_grouped_type_age.columns.droplevel(0)\n",
    "# Export the dataframe to a csv file\n",
    "df_grouped_type_age.to_csv('data_output/type_gender_birth.csv')\n",
    "# Display the dataframe\n",
    "df_grouped_type_age"
   ]
  },
  {
   "cell_type": "markdown",
   "execution_count": null,
   "metadata": {},
   "outputs": [],
   "source": [
    "### Aggregate by Start Station Name"
   ]
  },
  {
   "cell_type": "code",
   "execution_count": 9,
   "metadata": {},
   "outputs": [
    {
     "data": {
      "text/html": "<div>\n<style scoped>\n    .dataframe tbody tr th:only-of-type {\n        vertical-align: middle;\n    }\n\n    .dataframe tbody tr th {\n        vertical-align: top;\n    }\n\n    .dataframe thead th {\n        text-align: right;\n    }\n</style>\n<table border=\"1\" class=\"dataframe\">\n  <thead>\n    <tr style=\"text-align: right;\">\n      <th></th>\n      <th></th>\n      <th></th>\n      <th></th>\n      <th>Trip Duration Mean (s)</th>\n      <th>Total Rides</th>\n    </tr>\n    <tr>\n      <th>Start Date</th>\n      <th>Start Station Name</th>\n      <th>Start Station Latitude</th>\n      <th>Start Station Longitude</th>\n      <th></th>\n      <th></th>\n    </tr>\n  </thead>\n  <tbody>\n    <tr>\n      <td rowspan=\"5\" valign=\"top\">2017-01-01</td>\n      <td>1 Ave &amp; E 16 St</td>\n      <td>40.732219</td>\n      <td>-73.981656</td>\n      <td>553.045455</td>\n      <td>66</td>\n    </tr>\n    <tr>\n      <td>1 Ave &amp; E 18 St</td>\n      <td>40.733812</td>\n      <td>-73.980544</td>\n      <td>810.560606</td>\n      <td>66</td>\n    </tr>\n    <tr>\n      <td>1 Ave &amp; E 30 St</td>\n      <td>40.741444</td>\n      <td>-73.975361</td>\n      <td>879.076923</td>\n      <td>52</td>\n    </tr>\n    <tr>\n      <td>1 Ave &amp; E 44 St</td>\n      <td>40.750020</td>\n      <td>-73.969053</td>\n      <td>1045.838710</td>\n      <td>31</td>\n    </tr>\n    <tr>\n      <td>1 Ave &amp; E 62 St</td>\n      <td>40.761227</td>\n      <td>-73.960940</td>\n      <td>823.693878</td>\n      <td>49</td>\n    </tr>\n    <tr>\n      <td>...</td>\n      <td>...</td>\n      <td>...</td>\n      <td>...</td>\n      <td>...</td>\n      <td>...</td>\n    </tr>\n    <tr>\n      <td rowspan=\"5\" valign=\"top\">2019-11-30</td>\n      <td>Wyckoff Av &amp; Stanhope St</td>\n      <td>40.703545</td>\n      <td>-73.917775</td>\n      <td>608.166667</td>\n      <td>6</td>\n    </tr>\n    <tr>\n      <td>Wyckoff St &amp; 3 Ave</td>\n      <td>40.682755</td>\n      <td>-73.982586</td>\n      <td>495.117647</td>\n      <td>17</td>\n    </tr>\n    <tr>\n      <td>Wyckoff St &amp; Bond St</td>\n      <td>40.684617</td>\n      <td>-73.987213</td>\n      <td>500.666667</td>\n      <td>9</td>\n    </tr>\n    <tr>\n      <td>Wythe Ave &amp; Metropolitan Ave</td>\n      <td>40.716887</td>\n      <td>-73.963198</td>\n      <td>710.962264</td>\n      <td>53</td>\n    </tr>\n    <tr>\n      <td>York St</td>\n      <td>40.716490</td>\n      <td>-74.041050</td>\n      <td>203.250000</td>\n      <td>4</td>\n    </tr>\n  </tbody>\n</table>\n<p>809191 rows × 2 columns</p>\n</div>",
      "text/plain": "                                                                                        Trip Duration Mean (s)  \\\nStart Date Start Station Name           Start Station Latitude Start Station Longitude                           \n2017-01-01 1 Ave & E 16 St              40.732219              -73.981656                           553.045455   \n           1 Ave & E 18 St              40.733812              -73.980544                           810.560606   \n           1 Ave & E 30 St              40.741444              -73.975361                           879.076923   \n           1 Ave & E 44 St              40.750020              -73.969053                          1045.838710   \n           1 Ave & E 62 St              40.761227              -73.960940                           823.693878   \n...                                                                                                        ...   \n2019-11-30 Wyckoff Av & Stanhope St     40.703545              -73.917775                           608.166667   \n           Wyckoff St & 3 Ave           40.682755              -73.982586                           495.117647   \n           Wyckoff St & Bond St         40.684617              -73.987213                           500.666667   \n           Wythe Ave & Metropolitan Ave 40.716887              -73.963198                           710.962264   \n           York St                      40.716490              -74.041050                           203.250000   \n\n                                                                                        Total Rides  \nStart Date Start Station Name           Start Station Latitude Start Station Longitude               \n2017-01-01 1 Ave & E 16 St              40.732219              -73.981656                        66  \n           1 Ave & E 18 St              40.733812              -73.980544                        66  \n           1 Ave & E 30 St              40.741444              -73.975361                        52  \n           1 Ave & E 44 St              40.750020              -73.969053                        31  \n           1 Ave & E 62 St              40.761227              -73.960940                        49  \n...                                                                                             ...  \n2019-11-30 Wyckoff Av & Stanhope St     40.703545              -73.917775                         6  \n           Wyckoff St & 3 Ave           40.682755              -73.982586                        17  \n           Wyckoff St & Bond St         40.684617              -73.987213                         9  \n           Wythe Ave & Metropolitan Ave 40.716887              -73.963198                        53  \n           York St                      40.716490              -74.041050                         4  \n\n[809191 rows x 2 columns]"
     },
     "execution_count": 9,
     "metadata": {},
     "output_type": "execute_result"
    }
   ],
   "source": [
    "# Aggregate by Type and Gender\n",
    "df_grouped_start = df_total.groupby(['Start Date', 'Start Station Name', 'Start Station Latitude','Start Station Longitude']).agg({'Trip Duration':{'Trip Duration Mean (s)':'mean'}, 'Bike ID':{'Total Rides':'count'}})\n",
    "df_grouped_start.columns = df_grouped_start.columns.droplevel(0)\n",
    "# Export the dataframe to a csv file\n",
    "df_grouped_start.to_csv('data_output/start_date.csv')\n",
    "# Display the dataframe\n",
    "df_grouped_start"
   ]
  },
  {
   "cell_type": "markdown",
   "execution_count": 17,
   "metadata": {},
   "outputs": [],
   "source": [
    "### Aggregate by Stop Station Name"
   ]
  },
  {
   "cell_type": "code",
   "execution_count": 10,
   "metadata": {},
   "outputs": [
    {
     "data": {
      "text/html": "<div>\n<style scoped>\n    .dataframe tbody tr th:only-of-type {\n        vertical-align: middle;\n    }\n\n    .dataframe tbody tr th {\n        vertical-align: top;\n    }\n\n    .dataframe thead th {\n        text-align: right;\n    }\n</style>\n<table border=\"1\" class=\"dataframe\">\n  <thead>\n    <tr style=\"text-align: right;\">\n      <th></th>\n      <th></th>\n      <th></th>\n      <th></th>\n      <th>Trip Duration Mean (s)</th>\n      <th>Total Rides</th>\n    </tr>\n    <tr>\n      <th>Stop Date</th>\n      <th>End Station Name</th>\n      <th>End Station Latitude</th>\n      <th>End Station Longitude</th>\n      <th></th>\n      <th></th>\n    </tr>\n  </thead>\n  <tbody>\n    <tr>\n      <td rowspan=\"5\" valign=\"top\">2017-01-01</td>\n      <td>1 Ave &amp; E 16 St</td>\n      <td>40.732219</td>\n      <td>-73.981656</td>\n      <td>534.318182</td>\n      <td>66</td>\n    </tr>\n    <tr>\n      <td>1 Ave &amp; E 18 St</td>\n      <td>40.733812</td>\n      <td>-73.980544</td>\n      <td>585.833333</td>\n      <td>60</td>\n    </tr>\n    <tr>\n      <td>1 Ave &amp; E 30 St</td>\n      <td>40.741444</td>\n      <td>-73.975361</td>\n      <td>708.581818</td>\n      <td>55</td>\n    </tr>\n    <tr>\n      <td>1 Ave &amp; E 44 St</td>\n      <td>40.750020</td>\n      <td>-73.969053</td>\n      <td>1173.043478</td>\n      <td>23</td>\n    </tr>\n    <tr>\n      <td>1 Ave &amp; E 62 St</td>\n      <td>40.761227</td>\n      <td>-73.960940</td>\n      <td>791.400000</td>\n      <td>45</td>\n    </tr>\n    <tr>\n      <td>...</td>\n      <td>...</td>\n      <td>...</td>\n      <td>...</td>\n      <td>...</td>\n      <td>...</td>\n    </tr>\n    <tr>\n      <td rowspan=\"5\" valign=\"top\">2019-12-01</td>\n      <td>W 42 St &amp; 8 Ave</td>\n      <td>40.757570</td>\n      <td>-73.990985</td>\n      <td>490.000000</td>\n      <td>1</td>\n    </tr>\n    <tr>\n      <td>W 45 St &amp; 8 Ave</td>\n      <td>40.759291</td>\n      <td>-73.988597</td>\n      <td>1072.500000</td>\n      <td>2</td>\n    </tr>\n    <tr>\n      <td>W 50 St &amp; 9 Ave</td>\n      <td>40.763605</td>\n      <td>-73.989180</td>\n      <td>1592.000000</td>\n      <td>1</td>\n    </tr>\n    <tr>\n      <td>Washington St &amp; Gansevoort St</td>\n      <td>40.739323</td>\n      <td>-74.008119</td>\n      <td>581.000000</td>\n      <td>2</td>\n    </tr>\n    <tr>\n      <td>Wythe Ave &amp; Metropolitan Ave</td>\n      <td>40.716887</td>\n      <td>-73.963198</td>\n      <td>1744.000000</td>\n      <td>2</td>\n    </tr>\n  </tbody>\n</table>\n<p>811412 rows × 2 columns</p>\n</div>",
      "text/plain": "                                                                                     Trip Duration Mean (s)  \\\nStop Date  End Station Name              End Station Latitude End Station Longitude                           \n2017-01-01 1 Ave & E 16 St               40.732219            -73.981656                         534.318182   \n           1 Ave & E 18 St               40.733812            -73.980544                         585.833333   \n           1 Ave & E 30 St               40.741444            -73.975361                         708.581818   \n           1 Ave & E 44 St               40.750020            -73.969053                        1173.043478   \n           1 Ave & E 62 St               40.761227            -73.960940                         791.400000   \n...                                                                                                     ...   \n2019-12-01 W 42 St & 8 Ave               40.757570            -73.990985                         490.000000   \n           W 45 St & 8 Ave               40.759291            -73.988597                        1072.500000   \n           W 50 St & 9 Ave               40.763605            -73.989180                        1592.000000   \n           Washington St & Gansevoort St 40.739323            -74.008119                         581.000000   \n           Wythe Ave & Metropolitan Ave  40.716887            -73.963198                        1744.000000   \n\n                                                                                     Total Rides  \nStop Date  End Station Name              End Station Latitude End Station Longitude               \n2017-01-01 1 Ave & E 16 St               40.732219            -73.981656                      66  \n           1 Ave & E 18 St               40.733812            -73.980544                      60  \n           1 Ave & E 30 St               40.741444            -73.975361                      55  \n           1 Ave & E 44 St               40.750020            -73.969053                      23  \n           1 Ave & E 62 St               40.761227            -73.960940                      45  \n...                                                                                          ...  \n2019-12-01 W 42 St & 8 Ave               40.757570            -73.990985                       1  \n           W 45 St & 8 Ave               40.759291            -73.988597                       2  \n           W 50 St & 9 Ave               40.763605            -73.989180                       1  \n           Washington St & Gansevoort St 40.739323            -74.008119                       2  \n           Wythe Ave & Metropolitan Ave  40.716887            -73.963198                       2  \n\n[811412 rows x 2 columns]"
     },
     "execution_count": 10,
     "metadata": {},
     "output_type": "execute_result"
    }
   ],
   "source": [
    "# Aggregate by Type and Gender\n",
    "df_grouped_stop = df_total.groupby(['Stop Date', 'End Station Name','End Station Latitude', 'End Station Longitude']).agg({'Trip Duration':{'Trip Duration Mean (s)':'mean'}, 'Bike ID':{'Total Rides':'count'}})\n",
    "df_grouped_stop.columns = df_grouped_stop.columns.droplevel(0)\n",
    "# Export the dataframe to a csv file\n",
    "df_grouped_stop.to_csv('data_output/stop_date.csv')\n",
    "# Display the dataframe\n",
    "df_grouped_stop"
   ]
  },
  {
   "cell_type": "code",
   "execution_count": null,
   "metadata": {},
   "outputs": [],
   "source": []
  }
 ]
}